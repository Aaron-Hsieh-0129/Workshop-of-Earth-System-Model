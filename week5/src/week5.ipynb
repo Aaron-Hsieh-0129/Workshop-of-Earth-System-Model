{
 "cells": [
  {
   "cell_type": "code",
   "execution_count": 1,
   "metadata": {},
   "outputs": [],
   "source": [
    "import numpy as np\n",
    "import matplotlib.pyplot as plt\n",
    "import xarray as xr\n",
    "import matplotlib.cm as cm\n",
    "import cartopy.crs as ccrs\n",
    "import cartopy as cy"
   ]
  },
  {
   "cell_type": "code",
   "execution_count": 2,
   "metadata": {},
   "outputs": [],
   "source": [
    "class TaiESM():\n",
    "    def __init__(self, data):\n",
    "        self.data = xr.open_dataset(data)\n",
    "        \n",
    "        self.LON = self.getVar(\"lon\")\n",
    "        self.LAT = self.getVar(\"lat\")\n",
    "        self.LON2, self.LAT2 = np.meshgrid(self.LON, self.LAT)\n",
    "        self.LEV_PRE = self.getLevPre()\n",
    "    \n",
    "    def getVar(self, var):\n",
    "        if type(var) == str:\n",
    "            return self.data[var].to_numpy()\n",
    "        elif type(var) == list or type(var) == np.ndarray:\n",
    "            retVal = []\n",
    "            for i in range(len(var)):\n",
    "                retVal.append(self.data[var[i]].to_numpy())\n",
    "            return retVal\n",
    "        \n",
    "    def getLevPre(self):\n",
    "        PS_tile = np.tile(self.getVar(\"PS\"), (30, 1, 1))\n",
    "        hybm_tile = np.tile(self.getVar(\"hybm\"), (192, 288, 1)).swapaxes(0, 2).swapaxes(1, 2)\n",
    "        PRS_lev = np.tile(self.getVar(\"P0\")*self.getVar(\"hybm\"), (192, 288, 1)).swapaxes(0, 2).swapaxes(1, 2) + PS_tile * hybm_tile\n",
    "        return PRS_lev"
   ]
  },
  {
   "cell_type": "code",
   "execution_count": 13,
   "metadata": {},
   "outputs": [],
   "source": [
    "left_T, right_T, split_T = 240, 300, 11\n",
    "left_LHF, right_LHF, split_LHF = -60, 240, 11"
   ]
  },
  {
   "cell_type": "code",
   "execution_count": 16,
   "metadata": {},
   "outputs": [
    {
     "name": "stderr",
     "output_type": "stream",
     "text": [
      "/work/aaron900129/miniconda/envs/Aaron/lib/python3.8/site-packages/cartopy/mpl/gridliner.py:451: UserWarning: The .xlabels_top attribute is deprecated. Please use .top_labels to toggle visibility instead.\n",
      "  warnings.warn('The .xlabels_top attribute is deprecated. Please '\n",
      "/work/aaron900129/miniconda/envs/Aaron/lib/python3.8/site-packages/cartopy/mpl/gridliner.py:487: UserWarning: The .ylabels_right attribute is deprecated. Please use .right_labels to toggle visibility instead.\n",
      "  warnings.warn('The .ylabels_right attribute is deprecated. Please '\n"
     ]
    }
   ],
   "source": [
    "for i in range(1, 13):\n",
    "    tmp = str(i).zfill(2)\n",
    "    ds_ctl = TaiESM(f\"/work/aaron900129/taiesm_work/archive/f09.F2000.Aaron_10years/atm/hist/f09.F2000.Aaron_10years.cam.h0.2000-{tmp}.nc\")\n",
    "    ds_dessert = TaiESM(f\"/work/aaron900129/taiesm_work/archive/f09.F2000.Aaron_desert/atm/hist/f09.F2000.Aaron_desert.cam.h0.2000-{tmp}.nc\")\n",
    "\n",
    "    TS_ctl = np.asarray(ds_ctl.getVar(\"TS\"))[0]\n",
    "    LHFLX_ctl = np.asarray(ds_ctl.getVar(\"LHFLX\"))[0]\n",
    "\n",
    "    TS_dessert = np.asarray(ds_dessert.getVar(\"TS\"))[0]\n",
    "    LHFLX_dessert = np.asarray(ds_dessert.getVar(\"LHFLX\"))[0]\n",
    "\n",
    "    fig, ax = plt.subplots(2, 3, figsize=(15, 8), subplot_kw={'projection': ccrs.PlateCarree()}, dpi=300)\n",
    "    cs0 = ax[0, 0].contourf(ds_ctl.LON2, ds_ctl.LAT2, TS_ctl, extend='both', levels=np.linspace(left_T, right_T, split_T))\n",
    "    cs1 = ax[0, 1].contourf(ds_dessert.LON2, ds_dessert.LAT2, TS_dessert, extend='both', levels=np.linspace(left_T, right_T, split_T))\n",
    "    fig.colorbar(cs0, ax=ax[0, :2], orientation='horizontal', ticks=np.linspace(left_T, right_T, split_T), aspect=30)\n",
    "\n",
    "    cs2 = ax[0, 2].contourf(ds_ctl.LON2, ds_ctl.LAT2, TS_dessert - TS_ctl, extend='both', levels=np.linspace(-15, 15, 7))\n",
    "    fig.colorbar(cs2, ax=ax[0, 2:], orientation='horizontal', aspect=15, ticks=np.linspace(-15, 15, 7))\n",
    "\n",
    "\n",
    "    ax[0, 0].set_title(\"Control Run Surface Temperature\")\n",
    "    ax[0, 1].set_title(\"Bare Soil Run Surface Temperature\")\n",
    "    ax[0, 2].set_title(\"Surface Temperature Difference (Bare Soil - Control)\")\n",
    "\n",
    "    cs3 = ax[1, 0].contourf(ds_ctl.LON2, ds_ctl.LAT2, LHFLX_ctl, extend='both', levels=np.linspace(left_LHF, right_LHF, split_LHF))\n",
    "    cs4 = ax[1, 1].contourf(ds_dessert.LON2, ds_dessert.LAT2, LHFLX_dessert, extend='both', levels=np.linspace(left_LHF, right_LHF, split_LHF))\n",
    "    fig.colorbar(cs3, ax=ax[1, :2], orientation='horizontal', ticks=np.linspace(left_LHF, right_LHF, split_LHF), aspect=30)\n",
    "\n",
    "    cs5 = ax[1, 2].contourf(ds_dessert.LON2, ds_dessert.LAT2, LHFLX_dessert - LHFLX_ctl, extend='both', levels=np.linspace(-60, 240, 7))\n",
    "    fig.colorbar(cs5, ax=ax[1, 2:], orientation='horizontal', aspect=15, ticks=np.linspace(-60, 240, 7))\n",
    "\n",
    "\n",
    "    ax[1, 0].set_title(\"Control Run Latent Heat Flux\")\n",
    "    ax[1, 1].set_title(\"Bare Soil Run Latent Heat Flux\")\n",
    "    ax[1, 2].set_title(\"Latent Heat Flux Difference (Bare Soil - Control)\")\n",
    "\n",
    "    for f in range(2):\n",
    "        for g in range(3):\n",
    "            gl = ax[f, g].gridlines(crs=ccrs.PlateCarree(), draw_labels=True, linewidth = 0.5)\n",
    "            gl.xlabels_top = False\n",
    "            gl.ylabels_right = False\n",
    "            ax[f, g].add_feature(cy.feature.BORDERS)\n",
    "            ax[f, g].coastlines()\n",
    "    plt.savefig(f\"../graphs/{i}.png\", dpi=300)\n",
    "    plt.close()\n",
    "    # plt.show()"
   ]
  },
  {
   "cell_type": "code",
   "execution_count": 3,
   "metadata": {},
   "outputs": [],
   "source": [
    "TS_ctl_all, LHFLX_ctl_all = [], []\n",
    "TS_dessert_all, LHFLX_dessert_all = [], []\n",
    "for i in range(1, 13):\n",
    "    tmp = str(i).zfill(2)\n",
    "    ds_ctl = TaiESM(f\"/work/aaron900129/taiesm_work/archive/f09.F2000.Aaron_10years/atm/hist/f09.F2000.Aaron_10years.cam.h0.2000-{tmp}.nc\")\n",
    "    ds_dessert = TaiESM(f\"/work/aaron900129/taiesm_work/archive/f09.F2000.Aaron_desert/atm/hist/f09.F2000.Aaron_desert.cam.h0.2000-{tmp}.nc\")\n",
    "\n",
    "    TS_ctl = np.asarray(ds_ctl.getVar(\"TS\"))[0]\n",
    "    LHFLX_ctl = np.asarray(ds_ctl.getVar(\"LHFLX\"))[0]\n",
    "\n",
    "    TS_dessert = np.asarray(ds_dessert.getVar(\"TS\"))[0]\n",
    "    LHFLX_dessert = np.asarray(ds_dessert.getVar(\"LHFLX\"))[0]\n",
    "\n",
    "    TS_ctl_all.append(TS_ctl)\n",
    "    LHFLX_ctl_all.append(LHFLX_ctl)\n",
    "\n",
    "    TS_dessert_all.append(TS_dessert)\n",
    "    LHFLX_dessert_all.append(LHFLX_dessert)\n",
    "\n",
    "TS_ctl_all = np.nanmean(np.asarray(TS_ctl_all), axis=0)\n",
    "LHFLX_ctl_all = np.nanmean(np.asarray(LHFLX_ctl_all), axis=0)\n",
    "TS_dessert_all = np.nanmean(np.asarray(TS_dessert_all), axis=0)\n",
    "LHFLX_dessert_all = np.nanmean(np.asarray(LHFLX_dessert_all), axis=0)"
   ]
  },
  {
   "cell_type": "code",
   "execution_count": 7,
   "metadata": {},
   "outputs": [],
   "source": [
    "left_T, right_T, split_T = 240, 300, 11\n",
    "left_LHF, right_LHF, split_LHF = -60, 240, 11"
   ]
  },
  {
   "cell_type": "code",
   "execution_count": 12,
   "metadata": {},
   "outputs": [],
   "source": [
    "fig, ax = plt.subplots(2, 3, figsize=(17, 8), subplot_kw={'projection': ccrs.PlateCarree()})\n",
    "cs0 = ax[0, 0].contourf(ds_ctl.LON2, ds_ctl.LAT2, TS_ctl_all, extend='both', levels=np.linspace(left_T, right_T, split_T))\n",
    "cs1 = ax[0, 1].contourf(ds_dessert.LON2, ds_dessert.LAT2, TS_dessert_all, extend='both', levels=np.linspace(left_T, right_T, split_T))\n",
    "fig.colorbar(cs0, ax=ax[0, :2], orientation='horizontal', ticks=np.linspace(left_T, right_T, split_T), aspect=30)\n",
    "\n",
    "cs2 = ax[0, 2].contourf(ds_ctl.LON2, ds_ctl.LAT2, TS_dessert_all - TS_ctl_all, extend='both', levels=np.linspace(-15, 15, 7))\n",
    "fig.colorbar(cs2, ax=ax[0, 2:], orientation='horizontal', aspect=15, ticks=np.linspace(-15, 15, 7))\n",
    "\n",
    "\n",
    "ax[0, 0].set_title(\"Control Run Mean Surface Temperature\")\n",
    "ax[0, 1].set_title(\"Bare Soil Run Mean Surface Temperature\")\n",
    "ax[0, 2].set_title(\"Mean Surface Temperature Difference (Bare Soil - Control)\")\n",
    "\n",
    "cs3 = ax[1, 0].contourf(ds_ctl.LON2, ds_ctl.LAT2, LHFLX_ctl_all, extend='both', levels=np.linspace(left_LHF, right_LHF, split_LHF))\n",
    "cs4 = ax[1, 1].contourf(ds_dessert.LON2, ds_dessert.LAT2, LHFLX_dessert_all, extend='both', levels=np.linspace(left_LHF, right_LHF, split_LHF))\n",
    "fig.colorbar(cs3, ax=ax[1, :2], orientation='horizontal', ticks=np.linspace(left_LHF, right_LHF, split_LHF), aspect=30)\n",
    "\n",
    "cs5 = ax[1, 2].contourf(ds_dessert.LON2, ds_dessert.LAT2, LHFLX_dessert_all - LHFLX_ctl_all, extend='both', levels=np.linspace(-60, 60, 7))\n",
    "fig.colorbar(cs5, ax=ax[1, 2:], orientation='horizontal', aspect=15, ticks=np.linspace(-60, 60, 7))\n",
    "\n",
    "\n",
    "ax[1, 0].set_title(\"Control Run Mean Latent Heat Flux\")\n",
    "ax[1, 1].set_title(\"Bare Soil Run Mean Latent Heat Flux\")\n",
    "ax[1, 2].set_title(\"Mean Latent Heat Flux Difference (Bare Soil - Control)\")\n",
    "\n",
    "for f in range(2):\n",
    "    for g in range(3):\n",
    "        gl = ax[f, g].gridlines(crs=ccrs.PlateCarree(), draw_labels=True, linewidth = 0.5)\n",
    "        gl.xlabels_top = False\n",
    "        gl.ylabels_right = False\n",
    "        ax[f, g].add_feature(cy.feature.BORDERS)\n",
    "        ax[f, g].coastlines()\n",
    "plt.savefig(f\"../graphs/all_mean.png\", dpi=300)\n",
    "# plt.show()\n",
    "plt.close()"
   ]
  }
 ],
 "metadata": {
  "kernelspec": {
   "display_name": "Aaron",
   "language": "python",
   "name": "python3"
  },
  "language_info": {
   "codemirror_mode": {
    "name": "ipython",
    "version": 3
   },
   "file_extension": ".py",
   "mimetype": "text/x-python",
   "name": "python",
   "nbconvert_exporter": "python",
   "pygments_lexer": "ipython3",
   "version": "3.8.16"
  },
  "orig_nbformat": 4
 },
 "nbformat": 4,
 "nbformat_minor": 2
}
