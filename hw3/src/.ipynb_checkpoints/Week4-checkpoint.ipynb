{
 "cells": [
  {
   "cell_type": "code",
   "execution_count": 1,
   "id": "8cadba02",
   "metadata": {},
   "outputs": [],
   "source": [
    "import numpy as np\n",
    "import xarray as xr\n",
    "import matplotlib.pyplot as plt"
   ]
  },
  {
   "cell_type": "code",
   "execution_count": 6,
   "id": "23811961",
   "metadata": {},
   "outputs": [],
   "source": [
    "class TaiESM():\n",
    "    def __init__(self, data):\n",
    "        self.data = xr.open_dataset(data)\n",
    "        \n",
    "        \n",
    "        self.L\n",
    "    \n",
    "    def getVar(self, var):\n",
    "        if type(var) == str:\n",
    "            return self.data[var].to_numpy()\n",
    "        elif type(var) == list or type(var) == numpy.ndarray:\n",
    "            retVal = []\n",
    "            for i in range(len(var)):\n",
    "                retVal.append(self.data[var[i]].to_numpy())\n",
    "            return retVal"
   ]
  },
  {
   "cell_type": "code",
   "execution_count": 7,
   "id": "da89f6de",
   "metadata": {},
   "outputs": [
    {
     "name": "stdout",
     "output_type": "stream",
     "text": [
      "<xarray.Dataset>\n",
      "Dimensions:        (lev: 30, ilev: 31, time: 1, lat: 192, lon: 288, slat: 191,\n",
      "                    slon: 288, nbnd: 2)\n",
      "Coordinates:\n",
      "  * lev            (lev) float64 3.643 7.595 14.36 24.61 ... 957.5 976.3 992.6\n",
      "  * ilev           (ilev) float64 2.255 5.032 10.16 18.56 ... 967.5 985.1 1e+03\n",
      "  * time           (time) object 2001-02-01 00:00:00\n",
      "  * lat            (lat) float64 -90.0 -89.06 -88.12 -87.17 ... 88.12 89.06 90.0\n",
      "  * lon            (lon) float64 0.0 1.25 2.5 3.75 ... 355.0 356.2 357.5 358.8\n",
      "  * slat           (slat) float64 -89.53 -88.59 -87.64 ... 87.64 88.59 89.53\n",
      "  * slon           (slon) float64 -0.625 0.625 1.875 3.125 ... 355.6 356.9 358.1\n",
      "Dimensions without coordinates: nbnd\n",
      "Data variables: (12/184)\n",
      "    hyam           (lev) float64 ...\n",
      "    hybm           (lev) float64 ...\n",
      "    hyai           (ilev) float64 ...\n",
      "    hybi           (ilev) float64 ...\n",
      "    P0             float64 ...\n",
      "    date           (time) int32 ...\n",
      "    ...             ...\n",
      "    sgnd_a3        (time, lev, lat, lon) float32 ...\n",
      "    so4_a1_SRF     (time, lat, lon) float32 ...\n",
      "    so4_a2_SRF     (time, lat, lon) float32 ...\n",
      "    so4_a3_SRF     (time, lat, lon) float32 ...\n",
      "    soa_a1_SRF     (time, lat, lon) float32 ...\n",
      "    soa_a2_SRF     (time, lat, lon) float32 ...\n",
      "Attributes:\n",
      "    Conventions:      CF-1.0\n",
      "    source:           CAM\n",
      "    case:             f09.F2000.Aaron_10years\n",
      "    title:            UNSET\n",
      "    logname:          aaron900129\n",
      "    host:             cpn3071\n",
      "    Version:          $Name$\n",
      "    revision_Id:      $Id$\n",
      "    initial_file:     /opt/ohpc/pkg/rcec/model/taiesm/inputdata/TaiESM_Input/...\n",
      "    topography_file:  /opt/ohpc/pkg/rcec/model/taiesm/inputdata/atm/cam/topo/...\n",
      "<xarray.Dataset>\n",
      "Dimensions:        (lev: 30, ilev: 31, time: 1, lat: 192, lon: 288, slat: 191,\n",
      "                    slon: 288, nbnd: 2)\n",
      "Coordinates:\n",
      "  * lev            (lev) float64 3.643 7.595 14.36 24.61 ... 957.5 976.3 992.6\n",
      "  * ilev           (ilev) float64 2.255 5.032 10.16 18.56 ... 967.5 985.1 1e+03\n",
      "  * time           (time) object 2000-02-01 00:00:00\n",
      "  * lat            (lat) float64 -90.0 -89.06 -88.12 -87.17 ... 88.12 89.06 90.0\n",
      "  * lon            (lon) float64 0.0 1.25 2.5 3.75 ... 355.0 356.2 357.5 358.8\n",
      "  * slat           (slat) float64 -89.53 -88.59 -87.64 ... 87.64 88.59 89.53\n",
      "  * slon           (slon) float64 -0.625 0.625 1.875 3.125 ... 355.6 356.9 358.1\n",
      "Dimensions without coordinates: nbnd\n",
      "Data variables: (12/184)\n",
      "    hyam           (lev) float64 ...\n",
      "    hybm           (lev) float64 ...\n",
      "    hyai           (ilev) float64 ...\n",
      "    hybi           (ilev) float64 ...\n",
      "    P0             float64 ...\n",
      "    date           (time) int32 ...\n",
      "    ...             ...\n",
      "    sgnd_a3        (time, lev, lat, lon) float32 ...\n",
      "    so4_a1_SRF     (time, lat, lon) float32 ...\n",
      "    so4_a2_SRF     (time, lat, lon) float32 ...\n",
      "    so4_a3_SRF     (time, lat, lon) float32 ...\n",
      "    soa_a1_SRF     (time, lat, lon) float32 ...\n",
      "    soa_a2_SRF     (time, lat, lon) float32 ...\n",
      "Attributes:\n",
      "    Conventions:      CF-1.0\n",
      "    source:           CAM\n",
      "    case:             f09.F2000.Aaron_week4\n",
      "    title:            UNSET\n",
      "    logname:          aaron900129\n",
      "    host:             cpn3081\n",
      "    Version:          $Name$\n",
      "    revision_Id:      $Id$\n",
      "    initial_file:     /opt/ohpc/pkg/rcec/model/taiesm/inputdata/TaiESM_Input/...\n",
      "    topography_file:  /opt/ohpc/pkg/rcec/model/taiesm/inputdata/atm/cam/topo/...\n"
     ]
    }
   ],
   "source": [
    "dataControl = TaiESM(\"/home/Aaron/Workshop-of-Earth-System-Model/hw3/data/f09.F2000.Aaron_10years/atm/hist/f09.F2000.Aaron_10years.cam.h0.2001-01.nc\")\n",
    "dataIce = TaiESM(\"/home/Aaron/Workshop-of-Earth-System-Model/hw3/data/f09.F2000.Aaron_week4/atm/hist/f09.F2000.Aaron_week4.cam.h0.2000-01.nc\")\n",
    "\n",
    "\n",
    "# print(dataControl)"
   ]
  }
 ],
 "metadata": {
  "kernelspec": {
   "display_name": "Python 3 (ipykernel)",
   "language": "python",
   "name": "python3"
  },
  "language_info": {
   "codemirror_mode": {
    "name": "ipython",
    "version": 3
   },
   "file_extension": ".py",
   "mimetype": "text/x-python",
   "name": "python",
   "nbconvert_exporter": "python",
   "pygments_lexer": "ipython3",
   "version": "3.8.16"
  }
 },
 "nbformat": 4,
 "nbformat_minor": 5
}
